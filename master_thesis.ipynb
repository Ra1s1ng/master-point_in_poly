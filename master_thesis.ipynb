{
 "cells": [
  {
   "cell_type": "code",
   "execution_count": null,
   "id": "initial_id",
   "metadata": {
    "collapsed": true
   },
   "outputs": [],
   "source": [
    "import shapely.geometry\n",
    "import random"
   ]
  },
  {
   "cell_type": "code",
   "execution_count": null,
   "outputs": [],
   "source": [
    "point1 = shapely.geometry.Point(24.952242, 60.1696017)\n",
    "point2 = shapely.geometry.Point(24.976567, 60.1612500)\n",
    "\n",
    "polygon = shapely.geometry.Polygon(\n",
    "    [\n",
    "        (24.950899, 60.169158),\n",
    "        (24.953492, 60.169158),\n",
    "        (24.953510, 60.170104),\n",
    "        (24.950958, 60.169990)\n",
    "    ]\n",
    ")"
   ],
   "metadata": {
    "collapsed": false
   },
   "id": "db7365a9d7a1cc79"
  },
  {
   "cell_type": "code",
   "execution_count": null,
   "outputs": [],
   "source": [
    "center_point = shapely.geometry.Point(24.952242, 60.1696017)\n",
    "randompoints = []\n",
    "\n",
    "# Generate 100 random points\n",
    "for x in range(100):\n",
    "    # Generate random offsets for latitude and longitude\n",
    "    offset_longitude = random.uniform(-0.001, 0.001)\n",
    "    offset_latitude = random.uniform(-0.001, 0.001)\n",
    "\n",
    "    # Create a new point by adding the offsets to the center point\n",
    "    new_point = shapely.geometry.Point(center_point.x + offset_longitude, center_point.y + offset_latitude)\n",
    "\n",
    "    random_points.append(new_point)\n",
    "\n",
    "# Print the list of random points\n",
    "for point in random_points:\n",
    "    print(point)"
   ],
   "metadata": {
    "collapsed": false
   },
   "id": "5d29942e755acf65"
  },
  {
   "cell_type": "code",
   "execution_count": null,
   "outputs": [],
   "source": [
    "print(point1)\n",
    "print(point2)\n",
    "print(polygon)"
   ],
   "metadata": {
    "collapsed": false
   },
   "id": "9c5c82f8bcc17c32"
  },
  {
   "cell_type": "code",
   "execution_count": null,
   "outputs": [],
   "source": [
    "print(point1.within(polygon))\n",
    "print(point2.within(polygon))\n",
    "\n",
    "for point in random_points:\n",
    "    print(point.within(polygon))"
   ],
   "metadata": {
    "collapsed": false
   },
   "id": "abffdfc4f869311b"
  }
 ],
 "metadata": {
  "kernelspec": {
   "display_name": "Python 3",
   "language": "python",
   "name": "python3"
  },
  "language_info": {
   "codemirror_mode": {
    "name": "ipython",
    "version": 2
   },
   "file_extension": ".py",
   "mimetype": "text/x-python",
   "name": "python",
   "nbconvert_exporter": "python",
   "pygments_lexer": "ipython2",
   "version": "2.7.6"
  }
 },
 "nbformat": 4,
 "nbformat_minor": 5
}
